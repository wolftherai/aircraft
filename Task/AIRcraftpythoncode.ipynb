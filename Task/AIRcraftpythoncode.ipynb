{
 "cells": [
  {
   "cell_type": "code",
   "execution_count": null,
   "metadata": {},
   "outputs": [],
   "source": []
  },
  {
   "cell_type": "code",
   "execution_count": 6,
   "metadata": {},
   "outputs": [
    {
     "name": "stdout",
     "output_type": "stream",
     "text": [
      "irase\n"
     ]
    },
    {
     "ename": "AttributeError",
     "evalue": "'file' object has no attribute 'show'",
     "output_type": "error",
     "traceback": [
      "\u001b[1;31m\u001b[0m",
      "\u001b[1;31mAttributeError\u001b[0mTraceback (most recent call last)",
      "\u001b[1;32m<ipython-input-6-6a5ee873fadd>\u001b[0m in \u001b[0;36m<module>\u001b[1;34m()\u001b[0m\n\u001b[0;32m     69\u001b[0m \u001b[0mHtml_file\u001b[0m\u001b[1;33m.\u001b[0m\u001b[0mclose\u001b[0m\u001b[1;33m(\u001b[0m\u001b[1;33m)\u001b[0m\u001b[1;33m\u001b[0m\u001b[0m\n\u001b[0;32m     70\u001b[0m \u001b[1;32mprint\u001b[0m\u001b[1;33m(\u001b[0m\u001b[1;34m\"irase\"\u001b[0m\u001b[1;33m)\u001b[0m\u001b[1;33m\u001b[0m\u001b[0m\n\u001b[1;32m---> 71\u001b[1;33m \u001b[1;32mprint\u001b[0m\u001b[1;33m(\u001b[0m\u001b[0mHtml_file\u001b[0m\u001b[1;33m.\u001b[0m\u001b[0mshow\u001b[0m\u001b[1;33m(\u001b[0m\u001b[1;33m)\u001b[0m\u001b[1;33m)\u001b[0m\u001b[1;33m\u001b[0m\u001b[0m\n\u001b[0m\u001b[0;32m     72\u001b[0m \u001b[1;31m#irasom html koda i html formato faila ir issaugome viska,gautame kode turi susidaryti 2 skirtingos lenteles pagal reikalavimus\u001b[0m\u001b[1;33m\u001b[0m\u001b[1;33m\u001b[0m\u001b[0m\n\u001b[0;32m     73\u001b[0m \u001b[1;31m#------------smtp email-----------------------------------\u001b[0m\u001b[1;33m\u001b[0m\u001b[1;33m\u001b[0m\u001b[0m\n",
      "\u001b[1;31mAttributeError\u001b[0m: 'file' object has no attribute 'show'"
     ]
    }
   ],
   "source": [
    "import mysql.connector\n",
    "import smtplib, ssl\n",
    "from email.mime.text import MIMEText\n",
    "from email.mime.multipart import MIMEMultipart\n",
    "mydb = mysql.connector.connect(\n",
    "user='root1', \n",
    "password='1979',\n",
    "host='127.0.0.1',\n",
    "database='my_database'\n",
    ")\n",
    "#prisijungiam prie duomenu bazes\n",
    "mycursor = mydb.cursor()\n",
    "#sukurtas kursorius leidzia pasiekti duomenis is bazes\n",
    "#mycursor.execute ivykdo uzklausa\n",
    "mycursor.execute(\"SELECT  COUNT(*) FROM aircraft INNER JOIN model  INNER JOIN companies INNER JOIN country_codes WHERE SDF_COC_002 = ('Europe') AND SDF_COC_003 = ('T') AND  (aircraft.ACT_AUTO_KEY = country_codes.COC_AUTO_KEY) AND aircraft.MDL_AUTO_KEY = model.MDL_AUTO_KEY AND companies.COC_AUTO_KEY = country_codes.COC_AUTO_KEY -- AND  country_codes.SDF_COC_002 = 'Asia' -- AND (aircraft.ACT_AUTO_KEY = country_codes.COC_AUTO_KEY)-- -- AND  country_codes.SDF_COC_002 = 'Europe'  ORDER BY FIELD(country_codes.SDF_COC_002, 'Europe') DESC,  FIELD(country_codes.SDF_COC_003, 'T', 'F' ) ASC ;\")\n",
    "countEU = mycursor.fetchone() # pasiima pries tai atliktos uzklausos rezultata\n",
    "mycursor.execute(\"SELECT  COUNT(*) FROM aircraft INNER JOIN model  INNER JOIN companies INNER JOIN country_codes WHERE SDF_COC_002 = ('Europe') AND SDF_COC_003 = ('F') AND  (aircraft.ACT_AUTO_KEY = country_codes.COC_AUTO_KEY) AND aircraft.MDL_AUTO_KEY = model.MDL_AUTO_KEY AND companies.COC_AUTO_KEY = country_codes.COC_AUTO_KEY -- AND (aircraft.ACT_AUTO_KEY = country_codes.COC_AUTO_KEY)   ORDER BY FIELD(country_codes.SDF_COC_002, 'Europe') DESC,  FIELD(country_codes.SDF_COC_003, 'T', 'F' ) ASC ;\")\n",
    "countNEU = mycursor.fetchone() # pasiima pries tai atliktos uzklausos rezultata\n",
    "mycursor.execute(\"SELECT  COUNT(*) FROM aircraft INNER JOIN model  INNER JOIN companies INNER JOIN country_codes WHERE SDF_COC_002 != ('Europe') AND SDF_COC_003 = ('F') AND  (aircraft.ACT_AUTO_KEY = country_codes.COC_AUTO_KEY) AND aircraft.MDL_AUTO_KEY = model.MDL_AUTO_KEY AND companies.COC_AUTO_KEY = country_codes.COC_AUTO_KEY -- AND (aircraft.ACT_AUTO_KEY = country_codes.COC_AUTO_KEY)   ORDER BY FIELD(country_codes.SDF_COC_002, 'Europe') DESC,  FIELD(country_codes.SDF_COC_003, 'T', 'F' ) ASC ;\")\n",
    "countOUT= mycursor.fetchone() # pasiima pries tai atliktos uzklausos rezultata\n",
    "\n",
    "#iraso pasiimta reiksme int formatu\n",
    "countEU = int(countEU[0]) \n",
    "countNEU = int(countNEU[0])\n",
    "countOUT = int(countOUT[0])\n",
    "x = 0\n",
    "\n",
    "mycursor.execute(\"SELECT  aircraft.TAIL_NUMBER, model.MODEL_NUMBER, model.DESCRIPTION ,companies.COMPANY_NAME,country_codes.CODE, country_codes.COUNTRY_NAME FROM aircraft INNER JOIN model  INNER JOIN companies INNER JOIN country_codes WHERE  aircraft.MDL_AUTO_KEY = model.MDL_AUTO_KEY AND companies.COC_AUTO_KEY = country_codes.COC_AUTO_KEY AND (aircraft.ACT_AUTO_KEY = country_codes.COC_AUTO_KEY) ORDER BY FIELD(country_codes.SDF_COC_002, 'Europe') DESC, FIELD(country_codes.SDF_COC_003, 'T', 'F' ) ASC ;\")\n",
    "myresult = mycursor.fetchall() #issaugo visas eilutes rezultato lenteles\n",
    "#aprasomas string tipo kintamasis i kuri veliau bus issaugoti duomenys:\n",
    "mystring = \"\"\"\\\n",
    "<html>\n",
    "  <body>\n",
    "    %s <br> %s\n",
    "  </body>\n",
    "</html>\n",
    "\"\"\"\n",
    "# aprasome pirmos ir antros lenteles pradzia ir stulpelio pavadinimus\n",
    "htmlt2=\"<table border =\\\"1\\\" > \"\n",
    "htmlt2+=(\"<tr><th>\" + \"TAIL_NUMBER\" + \"</th><th>\" + \"MODEL_NUMBER\" + \"</th><th>\" + \" MODEL_DESCRIPTION\" + \"</th><th>\" + \"OWNER_COMPANY_NAME\"+\"</th><th>\"+ \"COMPANY_COUNTRY_CODE \" + \"</th><th>\"+\"COMPANY_COUNTRY_NAME\" + \"</th></tr>\")\n",
    "htmlt1=\"<table border =\\\"1\\\" > \"\n",
    "htmlt1+=(\"<tr><th>\" + \"TAIL_NUMBER\" + \"</th><th>\" + \"MODEL_NUMBER\" + \"</th><th>\" + \" MODEL_DESCRIPTION\" + \"</th><th>\" + \"OWNER_COMPANY_NAME\"+\"</th><th>\"+ \"COMPANY_COUNTRY_CODE\" + \"</th><th>\" + \"COMPANY_COUNTRY_NAME\" + \"</th></tr>\")\n",
    "for value in myresult:\n",
    "    arrez=value[0:]\n",
    "    x=x+1\n",
    "    \n",
    "    aircraftrow = [arrez]\n",
    "    for a in aircraftrow:\n",
    "        \n",
    "        if x <= countEU:        \n",
    "          # prideda reiksmes kol salys yra is europos ir ES\n",
    "            htmlt1+=(\"<tr bgcolor=\\\"#87CEFA\\\" ><th>\" + a[0] + \"</th><th>\" + a[1] + \"</th><th>\" + a[2] + \"</th><th>\" + a[3]+\"</th><th>\"+ a[4] +\"</th><th>\"+ a[5] + \"</th></tr>\")\n",
    "        elif x > (countEU) and x <= (countEU+countNEU):\n",
    "            htmlt1+=(\"<tr bgcolor=\\\"#ff4d4d\\\" ><th>\" + a[0] + \"</th><th>\" + a[1] + \"</th><th>\" + a[2] + \"</th><th>\" + a[3]+\"</th><th>\"+ a[4] + \"</th><th>\" + a[5] +  \"</th></tr>\")\n",
    "            if x == (countEU+countNEU):\n",
    "                htmlt1+=(\"</table>\")\n",
    "               # pirmos lenteles reiksme issaugojome htmlt1\n",
    "        elif x > (countEU+countNEU):   \n",
    "            htmlt2+=(\"<tr><th>\" + a[0] + \"</th><th>\" + a[1] + \"</th><th>\" + a[2] + \"</th><th>\" + a[3]+\"</th><th>\"+ a[4] + \"</th><th>\" + a[5]+ \"</th></tr>\")\n",
    "            if x == (countEU+countNEU+countOUT):   \n",
    "                htmlt2+=(\"</table>\")\n",
    "                html = mystring % (htmlt1,htmlt2)\n",
    "              # antros lenteles reiksmes issaugojoms htmlt2\n",
    "# html1 ir html2 reiksmes iterpeme i mystring ir viska issaugojome html kintamajame\n",
    "mydb.close()\n",
    "#print html isspausdintu visa html koda i ekrana\n",
    "#atidarom html formato faila, paruosta irasymui\n",
    "Html_file= open(\"aircrafts_tables.html\",\"w\") \n",
    "Html_file.write(html) \n",
    "Html_file.close()\n",
    "#irasom html koda i html formato faila ir issaugome viska,gautame kode turi susidaryti 2 skirtingos lenteles pagal reikalavimus\n",
    "#------------smtp email-----------------------------------\n",
    "#sender_email = \"raimond.kalnins@gmail.com\"\n",
    "#password = input(\"Iveskite slaptazodi ir spauskite Enter:\")\n",
    "#message = MIMEMultipart(\"alternative\")\n",
    "#message[\"Subject\"] = \"multipart test\"\n",
    "#message[\"To\"] = receiver_email\n",
    "##part1 = MIMEText(html, \"html\")\n",
    "\n",
    "# prideda HTML dali i MIMEMultipart message\n",
    "#message.attach(part1)\n",
    "\n",
    "# turetu sukurti saugu rysi su serveriu ir issiusti email (bet nesiuncia)\n",
    "#context = ssl.create_default_context()\n",
    "#with smtplib.SMTP_SSL(\"smtp.gmail.com\", 465, context=context) as server:\n",
    "#   server.login(sender_email, password)\n",
    "#   server.sendmail(\n",
    "#       sender_email, receiver_email, message.as_string()\n",
    "#   )  \n",
    "      \n",
    "    "
   ]
  },
  {
   "cell_type": "code",
   "execution_count": null,
   "metadata": {},
   "outputs": [],
   "source": []
  }
 ],
 "metadata": {
  "kernelspec": {
   "display_name": "Python 2",
   "language": "python",
   "name": "python2"
  },
  "language_info": {
   "codemirror_mode": {
    "name": "ipython",
    "version": 2
   },
   "file_extension": ".py",
   "mimetype": "text/x-python",
   "name": "python",
   "nbconvert_exporter": "python",
   "pygments_lexer": "ipython2",
   "version": "2.7.15"
  }
 },
 "nbformat": 4,
 "nbformat_minor": 2
}
